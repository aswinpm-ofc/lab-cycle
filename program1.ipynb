{
 "cells": [
  {
   "cell_type": "code",
   "execution_count": 26,
   "id": "f871ae98",
   "metadata": {
    "scrolled": true
   },
   "outputs": [
    {
     "name": "stdout",
     "output_type": "stream",
     "text": [
      "enter a for digit number9999\n",
      "difference between the sum of the digits in the odd position and even position is  0\n",
      "reverse= 9999     sum of the digits of the number= 36\n"
     ]
    }
   ],
   "source": [
    "n=int(input(\"enter a for digit number\"))\n",
    "k=n\n",
    "t=0\n",
    "it=0 \n",
    "sum1=0\n",
    "tt=0\n",
    "ff=0\n",
    "while k!=0 :\n",
    "      t=k%10\n",
    "      k=k//10\n",
    "      sum1=sum1+t\n",
    "      it=it+1\n",
    "      if it%2==1:\n",
    "        tt=tt+t\n",
    "      else:\n",
    "        ff=ff+t \n",
    "if it==4 :       \n",
    " if tt>ff:\n",
    "  c=tt-ff \n",
    "  print(\"difference between the sum of the digits in the odd position and even position is \",c)\n",
    " else:\n",
    "  c=ff-tt\n",
    "  print(\"difference between the sum of the digits in the odd position and even position is \",c)   \n",
    "        \n",
    "      \n",
    " j=0\n",
    " h=0      \n",
    " while n!=0:\n",
    "       j=n%10\n",
    "       n=n//10\n",
    "       it=it-1\n",
    "       h=h+(j*(10**it))\n",
    " print(\"reverse=\",h,\"    sum of the digits of the number=\",sum1) \n",
    "else:\n",
    "    print(\"its not a four digit number\")\n",
    "      "
   ]
  },
  {
   "cell_type": "code",
   "execution_count": null,
   "id": "d8fa6950",
   "metadata": {},
   "outputs": [],
   "source": []
  },
  {
   "cell_type": "markdown",
   "id": "0136b9a3",
   "metadata": {},
   "source": [
    "###### "
   ]
  }
 ],
 "metadata": {
  "kernelspec": {
   "display_name": "Python 3 (ipykernel)",
   "language": "python",
   "name": "python3"
  },
  "language_info": {
   "codemirror_mode": {
    "name": "ipython",
    "version": 3
   },
   "file_extension": ".py",
   "mimetype": "text/x-python",
   "name": "python",
   "nbconvert_exporter": "python",
   "pygments_lexer": "ipython3",
   "version": "3.11.5"
  }
 },
 "nbformat": 4,
 "nbformat_minor": 5
}
