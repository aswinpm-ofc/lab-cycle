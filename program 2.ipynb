{
 "cells": [
  {
   "cell_type": "code",
   "execution_count": 3,
   "id": "f3b5be23",
   "metadata": {},
   "outputs": [
    {
     "name": "stdout",
     "output_type": "stream",
     "text": [
      "enter a side of the triangle3\n",
      "enter a side of the triangle4\n",
      "enter a side of the triangle5\n",
      "enter a side of the triangle12\n",
      "enter a side of the triangle11\n",
      "enter a side of the triangle5\n",
      "area of triangle one is 6.0 \n",
      "area of triangle two is 27.49545416973504\n",
      "percentage of first triangle 17.9128784747792      percentage of second triangle  82.0871215252208\n"
     ]
    }
   ],
   "source": [
    "import math\n",
    "def read():\n",
    "    i=int(input(\"enter a side of the triangle\"))\n",
    "    j=int(input(\"enter a side of the triangle\"))\n",
    "    k=int(input(\"enter a side of the triangle\"))\n",
    "    return i,j,k\n",
    "def area(a,b,c):\n",
    "    s=(a+b+c)/2\n",
    "    area1=math.sqrt(s*(s-a)*(s-b)*(s-c))\n",
    "    return area1\n",
    "a1,b1,c1=read()\n",
    "a2,b2,c2=read()\n",
    "ar1=area(a1,b1,c1)\n",
    "ar2=area(a2,b2,c2)\n",
    "\n",
    "total=ar1+ar2\n",
    "pa1=(ar1*100)/total\n",
    "pa2=(ar2*100)/total\n",
    "\n",
    "print(f\"area of triangle one is {ar1} \\narea of triangle two is {ar2}\")\n",
    "    \n",
    "print(\"percentage of first triangle\",pa1,\"    \",\"percentage of second triangle \",pa2)"
   ]
  },
  {
   "cell_type": "code",
   "execution_count": null,
   "id": "df7c0a6b",
   "metadata": {},
   "outputs": [],
   "source": []
  },
  {
   "cell_type": "code",
   "execution_count": null,
   "id": "b211c957",
   "metadata": {},
   "outputs": [],
   "source": []
  }
 ],
 "metadata": {
  "kernelspec": {
   "display_name": "Python 3 (ipykernel)",
   "language": "python",
   "name": "python3"
  },
  "language_info": {
   "codemirror_mode": {
    "name": "ipython",
    "version": 3
   },
   "file_extension": ".py",
   "mimetype": "text/x-python",
   "name": "python",
   "nbconvert_exporter": "python",
   "pygments_lexer": "ipython3",
   "version": "3.11.5"
  }
 },
 "nbformat": 4,
 "nbformat_minor": 5
}
