{
 "cells": [
  {
   "cell_type": "code",
   "execution_count": 25,
   "id": "51886ce6",
   "metadata": {
    "scrolled": true
   },
   "outputs": [
    {
     "name": "stdout",
     "output_type": "stream",
     "text": [
      "enter your nameuuyfyuy\n",
      "enter your code99978\n",
      "enter your basic pay899999\n",
      "net salary : 942918.96\n",
      "gross salary : 1230998.64\n",
      "deduction : 288079.68\n",
      "name : uuyfyuy\n",
      "basic pay : 899999\n"
     ]
    }
   ],
   "source": [
    "def details():\n",
    "    n1=str(input(\"enter your name\"))\n",
    "    c1=int(input(\"enter your code\"))\n",
    "    b1=int(input(\"enter your basic pay\"))\n",
    "    return n1,c1,b1\n",
    "def employee(n,c,b):\n",
    "    it=0   \n",
    "    if b<10000:\n",
    "        da=b*5/100\n",
    "        hra=b*(2.5)/100\n",
    "        ma=500\n",
    "        pt=20\n",
    "        pf=b*8/100\n",
    "    elif b<30000:\n",
    "        da=b*(7.5)/100\n",
    "        hra=b*5/100\n",
    "        ma=2500\n",
    "        pt=60\n",
    "        pf=b*8/100\n",
    "    elif b<50000:\n",
    "        da=b*11/100\n",
    "        hra=b*(7.5)/100\n",
    "        ma=5000\n",
    "        pt=60\n",
    "        pf=b*11/100\n",
    "        it=b*11/100\n",
    "    else :\n",
    "        da=b*25/100\n",
    "        hra=b*(11)/100\n",
    "        ma=7000\n",
    "        pt=80\n",
    "        pf=b*12/100\n",
    "        it=b*20/100\n",
    "    d=pt+pf+it\n",
    "    gs=b+da+hra+ma\n",
    "    netsal=gs-d\n",
    "    return netsal,gs,d\n",
    "def slip():\n",
    "    print(\"net salary :\",netsal)\n",
    "    print(\"gross salary :\",gs)\n",
    "    print(\"deduction :\",d)\n",
    "    print(\"name :\",l)\n",
    "    print(\"basic pay :\",p)\n",
    "\n",
    "l,m,p=details()\n",
    "netsal,gs,d=employee(l,m,p)\n",
    "slip()\n",
    "        \n",
    "    "
   ]
  },
  {
   "cell_type": "code",
   "execution_count": null,
   "id": "2d3db4b2",
   "metadata": {},
   "outputs": [],
   "source": []
  },
  {
   "cell_type": "code",
   "execution_count": null,
   "id": "defcaa11",
   "metadata": {},
   "outputs": [],
   "source": []
  }
 ],
 "metadata": {
  "kernelspec": {
   "display_name": "Python 3 (ipykernel)",
   "language": "python",
   "name": "python3"
  },
  "language_info": {
   "codemirror_mode": {
    "name": "ipython",
    "version": 3
   },
   "file_extension": ".py",
   "mimetype": "text/x-python",
   "name": "python",
   "nbconvert_exporter": "python",
   "pygments_lexer": "ipython3",
   "version": "3.11.5"
  }
 },
 "nbformat": 4,
 "nbformat_minor": 5
}
